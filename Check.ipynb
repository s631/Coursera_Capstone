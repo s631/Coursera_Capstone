{
    "nbformat_minor": 1, 
    "cells": [
        {
            "source": "# Part 1: Scraping Postal Codes from Wikipidea", 
            "cell_type": "markdown", 
            "metadata": {
                "collapsed": true
            }
        }, 
        {
            "source": "import requests # library to handle requests\nimport lxml.html as lh\nimport bs4 as bs\nimport urllib.request\n\nimport numpy as np # library to handle data in a vectorized manner\nimport pandas as pd # library for data analsysis", 
            "cell_type": "code", 
            "execution_count": 1, 
            "outputs": [], 
            "metadata": {}
        }, 
        {
            "source": "\n## Source URL\nurl   = \"https://en.wikipedia.org/wiki/List_of_postal_codes_of_Canada:_M\"", 
            "cell_type": "code", 
            "execution_count": 2, 
            "outputs": [], 
            "metadata": {}
        }, 
        {
            "source": "# The following two functions below allows us to scrape html tables using\n### Python BeautifulSoup - python library for pulling data out of HTML and XML files, or\n### Python lxml - simmilar library that supports scraping with xpath", 
            "cell_type": "markdown", 
            "metadata": {}
        }, 
        {
            "source": "# -----------------------------------------------------\n# Using BS4 as suggested in Assignment.\n# scrape_table_bs4 <tableClassName> <expected numberOfColumns>\n# -----------------------------------------------------\ndef scrape_table_bs4(cname,cols):\n    page  = urllib.request.urlopen(url).read()\n    soup  = bs.BeautifulSoup(page,'lxml')\n    table = soup.find(\"table\",class_=cname)\n    header = [head.findAll(text=True)[0].strip() for head in table.find_all(\"th\")]\n    data   = [[td.findAll(text=True)[0].strip() for td in tr.find_all(\"td\")]\n              for tr in table.find_all(\"tr\")]\n    data    = [row for row in data if len(row) == cols]\n    # Store data to this temporary dataframe\n    raw_df = pd.DataFrame(data,columns=header)\n    return raw_df\n\n# -----------------------------------------------------\n# Parsing using xpath.\n# -----------------------------------------------------\ndef scrape_table_lxml(XPATH,cols):\n    page = requests.get(url)\n    doc = lh.fromstring(page.content)\n    table_content = doc.xpath(XPATH)\n    for table in table_content:\n        headers = [th.text_content().strip() for th in table.xpath('//th')]\n        headers = headers[0:3]\n        data    = [[td.text_content().strip() for td in tr.xpath('td')] \n                   for tr in table.xpath('//tbody/tr')]\n        data    = [row for row in data if len(row) == cols]\n        raw_df = pd.DataFrame(data,columns=headers)\n        return raw_df", 
            "cell_type": "code", 
            "execution_count": 3, 
            "outputs": [], 
            "metadata": {}
        }, 
        {
            "source": "#Test in beautifulSoup\nraw_TorontoPostalCodes = scrape_table_bs4(\"wikitable\",3)\n\n#Test in lxml ( for xpath based extraction)\n#raw_TorontoPostalCodes = scrape_table_lxml(\"/html/body/div[3]/div[3]/div[4]/div/table[1]\",3)\n\nprint(\"# Toronto Postal codes stored in data\")\nprint(raw_TorontoPostalCodes.info(verbose=True))", 
            "cell_type": "code", 
            "execution_count": 4, 
            "outputs": [
                {
                    "output_type": "stream", 
                    "name": "stdout", 
                    "text": "# Toronto Postal codes stored in data\n<class 'pandas.core.frame.DataFrame'>\nRangeIndex: 288 entries, 0 to 287\nData columns (total 3 columns):\nPostcode         288 non-null object\nBorough          288 non-null object\nNeighbourhood    288 non-null object\ndtypes: object(3)\nmemory usage: 6.8+ KB\nNone\n"
                }
            ], 
            "metadata": {}
        }, 
        {
            "source": "# Data Cleanup and re-grouping\nv", 
            "cell_type": "markdown", 
            "metadata": {}
        }
    ], 
    "nbformat": 4, 
    "metadata": {
        "kernelspec": {
            "display_name": "Python 3.6", 
            "name": "python3", 
            "language": "python"
        }, 
        "language_info": {
            "mimetype": "text/x-python", 
            "nbconvert_exporter": "python", 
            "version": "3.6.8", 
            "name": "python", 
            "pygments_lexer": "ipython3", 
            "file_extension": ".py", 
            "codemirror_mode": {
                "version": 3, 
                "name": "ipython"
            }
        }
    }
}