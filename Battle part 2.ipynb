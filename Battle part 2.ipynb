{
    "nbformat_minor": 1, 
    "cells": [
        {
            "source": "# The Battle of the Neighborhoods - Week 1\n\n## Data :\n\nOne city will be analysed in this project : Newyork City.\nWe will be using the below datasets for analysing Newyork city\n\n### Data 1 \n Neighborhood has a total of 5 boroughs and 306 neighborhoods. In order to segement the neighborhoods and explore them, we will essentially need a dataset that contains the 5 boroughs and the neighborhoods that exist in each borough as well as the the latitude and logitude coordinates of each neighborhood.\nThis dataset exists for free on the web. Link to the dataset is : https://geo.nyu.edu/catalog/nyu_2451_34572\n\n### Data 2 \nSecond data which will be used is the DOHMH Farmers Markets and Food Boxes dataset. In this we will be using the data of Farmers Markets.\nhttps://data.cityofnewyork.us/dataset/DOHMH-Farmers-Markets-and-Food-Boxes/8vwk-6iz2\nWebsite-https://www.grownyc.org/greenmarketco/foodbox \nGrowNYC's Fresh Food Box Program is a food access initiative that enables under-served communities to purchase fresh, healthy, and primarily regionally grown produce well below traditional retail prices.\nA farmers' market is often defined as a public site used by two or more local or regional producers for the direct sale of farm products to consumers. In addition to fresh fruits and vegetables, markets may sell dairy products, fish, meat, baked goods, and other minimally processed foods.\n\n### Data 3\nFor the below analysis we will get data from wikipedia as given below : \n1. New York Population \n2. New York City Demographics \n3. Cuisine of New York city \nhttps://en.wikipedia.org/wiki/New_York_City \nhttps://en.wikipedia.org/wiki/Economy_of_New_York_City \nhttps://en.wikipedia.org/wiki/Portal:New_York_City \nhttps://en.wikipedia.org/wiki/Cuisine_of_New_York_City \nhttps://en.wikipedia.org/wiki/List_of_Michelin_starred_restaurants_in_New_York_City\n\n### Data 4 \nNewyork city geographical coordinates data will be utilized as input for the Foursquare API, that will be leveraged to provision venues information for each neighborhood.We will use the Foursquare API to explore neighborhoods in New York City.", 
            "cell_type": "markdown", 
            "metadata": {
                "collapsed": true
            }
        }
    ], 
    "nbformat": 4, 
    "metadata": {
        "kernelspec": {
            "display_name": "Python 3.6", 
            "name": "python3", 
            "language": "python"
        }, 
        "language_info": {
            "mimetype": "text/x-python", 
            "nbconvert_exporter": "python", 
            "version": "3.6.8", 
            "name": "python", 
            "pygments_lexer": "ipython3", 
            "file_extension": ".py", 
            "codemirror_mode": {
                "version": 3, 
                "name": "ipython"
            }
        }
    }
}